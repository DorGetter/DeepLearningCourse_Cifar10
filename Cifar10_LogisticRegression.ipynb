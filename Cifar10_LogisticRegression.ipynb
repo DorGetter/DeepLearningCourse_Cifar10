{
  "nbformat": 4,
  "nbformat_minor": 0,
  "metadata": {
    "colab": {
      "name": "Cifar10_withDescription.ipynb",
      "provenance": [],
      "collapsed_sections": []
    },
    "kernelspec": {
      "name": "python3",
      "display_name": "Python 3"
    },
    "accelerator": "GPU"
  },
  "cells": [
    {
      "cell_type": "code",
      "metadata": {
        "id": "_BN2o324qTFq"
      },
      "source": [
        "%tensorflow_version 1.x\n",
        "\n",
        "import tensorflow as tf\n",
        "import numpy as np\n",
        "import keras\n",
        "import cv2 as cv2\n",
        "import matplotlib.pyplot as plt\n",
        "import seaborn as sns\n",
        "from keras.utils import to_categorical\n",
        "from keras.datasets import cifar10\n",
        "from sklearn.metrics import confusion_matrix, classification_report\n",
        "import itertools"
      ],
      "execution_count": 11,
      "outputs": []
    },
    {
      "cell_type": "markdown",
      "metadata": {
        "id": "t0qOMo5_qXiF"
      },
      "source": [
        "Extracting data from cifar10"
      ]
    },
    {
      "cell_type": "code",
      "metadata": {
        "id": "6982MThGtIlE"
      },
      "source": [
        ""
      ],
      "execution_count": 11,
      "outputs": []
    },
    {
      "cell_type": "code",
      "metadata": {
        "id": "S7-pn0FcqUx3"
      },
      "source": [
        "def get_cifar10():\n",
        "    \"\"\"Retrieve the CIFAR dataset and process the data.\"\"\"\n",
        "    # Set defaults.\n",
        "    nb_classes = 10\n",
        "    batch_size = 64\n",
        "    input_shape = (3072,)\n",
        "\n",
        "    # Get the data.\n",
        "    (x_train, y_train), (x_test, y_test) = cifar10.load_data()\n",
        "    show_dataDistribution(x_train, x_test, y_train, y_test)\n",
        "    x_train = x_train.reshape(50000, 3072)\n",
        "    x_test = x_test.reshape(10000, 3072)\n",
        "    x_train = x_train.astype('float32')\n",
        "    x_test = x_test.astype('float32')\n",
        "    x_train /= 255\n",
        "    x_test /= 255\n",
        "\n",
        "    # convert class vectors to binary class matrices\n",
        "    y_train = to_categorical(y_train, nb_classes)\n",
        "    y_test = to_categorical(y_test, nb_classes)\n",
        "\n",
        "    return (nb_classes, batch_size, input_shape, x_train, x_test, y_train, y_test) "
      ],
      "execution_count": 12,
      "outputs": []
    },
    {
      "cell_type": "code",
      "metadata": {
        "id": "AtatkEpatTiM"
      },
      "source": [
        "def show_dataDistribution(x_train, x_test, y_train, y_test):\n",
        "  fig, axs = plt.subplots(1,2,figsize=(15,5)) \n",
        "  # Count plot for training set\n",
        "  sns.countplot(y_train.ravel(), ax=axs[0])\n",
        "  axs[0].set_title('Distribution of training data')\n",
        "  axs[0].set_xlabel('Classes')\n",
        "  # Count plot for testing set\n",
        "  sns.countplot(y_test.ravel(), ax=axs[1])\n",
        "  axs[1].set_title('Distribution of Testing data')\n",
        "  axs[1].set_xlabel('Classes')\n",
        "  plt.show()\n",
        "  print('x_train shape: ', x_train.shape)\n",
        "  print('y_train shape: ', y_train.shape)\n",
        "\n",
        "  #plot random image:\n",
        "  print('\\nsample picture: \\n') \n",
        "  img = 999\n",
        "  plt.figure(figsize=(4, 2))\n",
        "  plt.subplot(1, 2, 1)\n",
        "  plt.imshow(x_train[img], interpolation='none')\n",
        "  \n"
      ],
      "execution_count": 19,
      "outputs": []
    },
    {
      "cell_type": "code",
      "metadata": {
        "colab": {
          "base_uri": "https://localhost:8080/",
          "height": 658
        },
        "id": "kYmmnAO9qdPJ",
        "outputId": "f37a218b-8a1d-4172-fddb-76d6ae76945c"
      },
      "source": [
        "nb_classes, batch_size, input_shape, x_train, x_test, y_train, y_test = get_cifar10()"
      ],
      "execution_count": 20,
      "outputs": [
        {
          "output_type": "stream",
          "text": [
            "/usr/local/lib/python3.6/dist-packages/seaborn/_decorators.py:43: FutureWarning: Pass the following variable as a keyword arg: x. From version 0.12, the only valid positional argument will be `data`, and passing other arguments without an explicit keyword will result in an error or misinterpretation.\n",
            "  FutureWarning\n",
            "/usr/local/lib/python3.6/dist-packages/seaborn/_decorators.py:43: FutureWarning: Pass the following variable as a keyword arg: x. From version 0.12, the only valid positional argument will be `data`, and passing other arguments without an explicit keyword will result in an error or misinterpretation.\n",
            "  FutureWarning\n"
          ],
          "name": "stderr"
        },
        {
          "output_type": "display_data",
          "data": {
            "image/png": "[encoded data removed]",
            "text/plain": [
              "<Figure size 1080x360 with 2 Axes>"
            ]
          },
          "metadata": {
            "tags": [],
            "needs_background": "light"
          }
        },
        {
          "output_type": "stream",
          "text": [
            "x_train shape:  (50000, 32, 32, 3)\n",
            "y_train shape:  (50000, 1)\n",
            "\n",
            "sample picture: \n",
            "\n"
          ],
          "name": "stdout"
        },
        {
          "output_type": "display_data",
          "data": {
            "image/png": "[encoded data removed]",
            "text/plain": [
              "<Figure size 288x144 with 1 Axes>"
            ]
          },
          "metadata": {
            "tags": [],
            "needs_background": "light"
          }
        }
      ]
    },
    {
      "cell_type": "code",
      "metadata": {
        "id": "1TdmCT2hqfTH"
      },
      "source": [
        "features = 3072\n",
        "categories = nb_classes\n",
        "\n",
        "x = tf.placeholder(tf.float32, [None, features])\n",
        "y_ = tf.placeholder(tf.float32, [None, categories])\n",
        "W = tf.Variable(tf.zeros([features,categories]))\n",
        "b = tf.Variable(tf.zeros([categories]))\n",
        "\n",
        "y = tf.nn.softmax(tf.matmul(x, W) + b)\n",
        "loss = -tf.reduce_mean(y_*tf.log(y))\n",
        "\n",
        "\n",
        "# update = tf.train.AdamOptimizer(0.0001).minimize(loss)\n",
        "update = tf.train.GradientDescentOptimizer(0.1).minimize(loss)\n",
        "\n",
        "correct_prediction = tf.equal(tf.argmax(y, 1),tf.argmax(y_, 1)) \n",
        "accuracy = tf.reduce_mean(tf.cast(correct_prediction,tf.float32))\n",
        "\n",
        "\n",
        "sess = tf.Session()\n",
        "sess.run(tf.global_variables_initializer())"
      ],
      "execution_count": null,
      "outputs": []
    },
    {
      "cell_type": "code",
      "metadata": {
        "id": "JrCPv9Z9qhuj"
      },
      "source": [
        "for epoch in range(0,1000):\n",
        "    sess.run(update, feed_dict = {x:x_train, y_:y_train}) #BGD \n",
        "    train_acc = sess.run(accuracy, feed_dict={x:x_train, y_:y_train})\n",
        "    test_acc = sess.run(accuracy, feed_dict={x:x_test, y_:y_test})\n",
        "    if(epoch % 10 == 0):\n",
        "      print (\"epoch: %3d train_acc: %f test_acc: %f\" % (epoch,train_acc, test_acc))"
      ],
      "execution_count": null,
      "outputs": []
    }
  ]
}